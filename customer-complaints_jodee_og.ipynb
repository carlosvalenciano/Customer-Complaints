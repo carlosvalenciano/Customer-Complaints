{
 "cells": [
  {
   "cell_type": "code",
<<<<<<< Updated upstream
   "execution_count": 268,
   "id": "2b18eece",
   "metadata": {},
   "outputs": [],
=======
   "execution_count": 2,
   "id": "2b18eece",
   "metadata": {},
   "outputs": [
    {
     "ename": "ModuleNotFoundError",
     "evalue": "No module named 'Geo_key'",
     "output_type": "error",
     "traceback": [
      "\u001b[1;31m---------------------------------------------------------------------------\u001b[0m",
      "\u001b[1;31mModuleNotFoundError\u001b[0m                       Traceback (most recent call last)",
      "Cell \u001b[1;32mIn[2], line 13\u001b[0m\n\u001b[0;32m     10\u001b[0m \u001b[38;5;28;01mfrom\u001b[39;00m \u001b[38;5;21;01mscipy\u001b[39;00m\u001b[38;5;21;01m.\u001b[39;00m\u001b[38;5;21;01mstats\u001b[39;00m \u001b[38;5;28;01mimport\u001b[39;00m linregress\n\u001b[0;32m     12\u001b[0m \u001b[38;5;66;03m# Import API key\u001b[39;00m\n\u001b[1;32m---> 13\u001b[0m \u001b[38;5;28;01mfrom\u001b[39;00m \u001b[38;5;21;01mGeo_key\u001b[39;00m\u001b[38;5;21;01m.\u001b[39;00m\u001b[38;5;21;01mpy\u001b[39;00m \u001b[38;5;28;01mimport\u001b[39;00m geoapify_key\n",
      "\u001b[1;31mModuleNotFoundError\u001b[0m: No module named 'Geo_key'"
     ]
    }
   ],
>>>>>>> Stashed changes
   "source": [
    "# Import Dependencies\n",
    "import pandas as pd\n",
    "import matplotlib.pyplot as plt\n",
    "import numpy as np \n",
    "import datetime as dt\n",
    "import requests\n",
    "import hvplot.pandas\n",
    "import plotly.express as px\n",
    "# Import API key\n",
    "from Geo_key import geoapify_key"
   ]
  },
  {
   "cell_type": "code",
   "execution_count": 269,
   "id": "b3094a39",
   "metadata": {},
   "outputs": [
    {
     "data": {
      "text/html": [
       "<div>\n",
       "<style scoped>\n",
       "    .dataframe tbody tr th:only-of-type {\n",
       "        vertical-align: middle;\n",
       "    }\n",
       "\n",
       "    .dataframe tbody tr th {\n",
       "        vertical-align: top;\n",
       "    }\n",
       "\n",
       "    .dataframe thead th {\n",
       "        text-align: right;\n",
       "    }\n",
       "</style>\n",
       "<table border=\"1\" class=\"dataframe\">\n",
       "  <thead>\n",
       "    <tr style=\"text-align: right;\">\n",
       "      <th></th>\n",
       "      <th>Complaint ID</th>\n",
       "      <th>Date received</th>\n",
       "      <th>Product</th>\n",
       "      <th>Issue</th>\n",
       "      <th>Company public response</th>\n",
       "      <th>Company</th>\n",
       "      <th>State</th>\n",
       "      <th>ZIP code</th>\n",
       "      <th>Submitted via</th>\n",
       "      <th>Date sent to company</th>\n",
       "      <th>Timely response?</th>\n",
       "      <th>Company response to consumer</th>\n",
       "    </tr>\n",
       "  </thead>\n",
       "  <tbody>\n",
       "    <tr>\n",
       "      <th>0</th>\n",
       "      <td>3481392</td>\n",
       "      <td>12/31/2019</td>\n",
       "      <td>VA mortgage</td>\n",
       "      <td>Struggling to pay mortgage</td>\n",
       "      <td>No</td>\n",
       "      <td>PENNYMAC LOAN SERVICES, LLC.</td>\n",
       "      <td>TX</td>\n",
       "      <td>78250</td>\n",
       "      <td>Web</td>\n",
       "      <td>12/31/2019</td>\n",
       "      <td>Yes</td>\n",
       "      <td>Closed with non-monetary relief</td>\n",
       "    </tr>\n",
       "    <tr>\n",
       "      <th>1</th>\n",
       "      <td>3479162</td>\n",
       "      <td>12/28/2019</td>\n",
       "      <td>VA mortgage</td>\n",
       "      <td>Trouble during payment process</td>\n",
       "      <td>No</td>\n",
       "      <td>JPMORGAN CHASE &amp; CO.</td>\n",
       "      <td>TX</td>\n",
       "      <td>75023</td>\n",
       "      <td>Web</td>\n",
       "      <td>12/28/2019</td>\n",
       "      <td>Yes</td>\n",
       "      <td>Closed with explanation</td>\n",
       "    </tr>\n",
       "    <tr>\n",
       "      <th>2</th>\n",
       "      <td>3478150</td>\n",
       "      <td>12/27/2019</td>\n",
       "      <td>FHA mortgage</td>\n",
       "      <td>Trouble during payment process</td>\n",
       "      <td>No</td>\n",
       "      <td>Mr. Cooper Group Inc.</td>\n",
       "      <td>TX</td>\n",
       "      <td>78754</td>\n",
       "      <td>Web</td>\n",
       "      <td>12/27/2019</td>\n",
       "      <td>Yes</td>\n",
       "      <td>Closed with explanation</td>\n",
       "    </tr>\n",
       "    <tr>\n",
       "      <th>3</th>\n",
       "      <td>3478892</td>\n",
       "      <td>12/27/2019</td>\n",
       "      <td>Conventional home mortgage</td>\n",
       "      <td>Trouble during payment process</td>\n",
       "      <td>Yes</td>\n",
       "      <td>Specialized Loan Servicing Holdings LLC</td>\n",
       "      <td>TX</td>\n",
       "      <td>76001</td>\n",
       "      <td>Web</td>\n",
       "      <td>12/27/2019</td>\n",
       "      <td>Yes</td>\n",
       "      <td>Closed with explanation</td>\n",
       "    </tr>\n",
       "    <tr>\n",
       "      <th>4</th>\n",
       "      <td>3478257</td>\n",
       "      <td>12/26/2019</td>\n",
       "      <td>FHA mortgage</td>\n",
       "      <td>Trouble during payment process</td>\n",
       "      <td>Yes</td>\n",
       "      <td>Flagstar Bank, N.A.</td>\n",
       "      <td>TX</td>\n",
       "      <td>75068</td>\n",
       "      <td>Web</td>\n",
       "      <td>12/26/2019</td>\n",
       "      <td>Yes</td>\n",
       "      <td>Closed with explanation</td>\n",
       "    </tr>\n",
       "  </tbody>\n",
       "</table>\n",
       "</div>"
      ],
      "text/plain": [
       "   Complaint ID Date received                     Product  \\\n",
       "0       3481392    12/31/2019                 VA mortgage   \n",
       "1       3479162    12/28/2019                 VA mortgage   \n",
       "2       3478150    12/27/2019                FHA mortgage   \n",
       "3       3478892    12/27/2019  Conventional home mortgage   \n",
       "4       3478257    12/26/2019                FHA mortgage   \n",
       "\n",
       "                            Issue Company public response  \\\n",
       "0      Struggling to pay mortgage                      No   \n",
       "1  Trouble during payment process                      No   \n",
       "2  Trouble during payment process                      No   \n",
       "3  Trouble during payment process                     Yes   \n",
       "4  Trouble during payment process                     Yes   \n",
       "\n",
       "                                   Company State  ZIP code Submitted via  \\\n",
       "0             PENNYMAC LOAN SERVICES, LLC.    TX     78250           Web   \n",
       "1                     JPMORGAN CHASE & CO.    TX     75023           Web   \n",
       "2                    Mr. Cooper Group Inc.    TX     78754           Web   \n",
       "3  Specialized Loan Servicing Holdings LLC    TX     76001           Web   \n",
       "4                      Flagstar Bank, N.A.    TX     75068           Web   \n",
       "\n",
       "  Date sent to company Timely response?     Company response to consumer  \n",
       "0           12/31/2019              Yes  Closed with non-monetary relief  \n",
       "1           12/28/2019              Yes          Closed with explanation  \n",
       "2           12/27/2019              Yes          Closed with explanation  \n",
       "3           12/27/2019              Yes          Closed with explanation  \n",
       "4           12/26/2019              Yes          Closed with explanation  "
      ]
     },
     "execution_count": 269,
     "metadata": {},
     "output_type": "execute_result"
    }
   ],
   "source": [
    "# Create a path to the csv file\n",
    "complaints_path = \"Cleaned Data Consumer Complaints.csv\"\n",
    "\n",
    "# Read the customer complaints data and display columns\n",
    "complaints_metadata = pd.read_csv(complaints_path)\n",
    "complaints_metadata.head()"
   ]
  },
  {
   "cell_type": "code",
   "execution_count": 270,
   "id": "024e84f8",
   "metadata": {},
   "outputs": [
    {
     "name": "stdout",
     "output_type": "stream",
     "text": [
      "<class 'pandas.core.series.Series'>\n"
     ]
    }
   ],
   "source": [
    "url = 'https://api.geoapify.com/v1/geocode/search?=postcode'\n",
    "# Define an empty list to fetch the geolocation data for each postal code\n",
    "zip_data = []\n",
    "postal_codes = complaints_metadata[\"ZIP code\"]\n",
    "# Create counters\n",
    "record_count = 1\n",
    "set_count = 1\n",
    "\n",
    "# Loop through all the zipcodes in our list to fetch geolocation data\n",
    "\n",
    "\n",
    "print(type(postal_codes))"
   ]
  },
  {
   "cell_type": "code",
   "execution_count": 271,
   "id": "56a0fb3e",
   "metadata": {},
   "outputs": [
    {
     "name": "stdout",
     "output_type": "stream",
     "text": [
      "0    78250\n",
      "1    75023\n",
      "2    78754\n",
      "3    76001\n",
      "4    75068\n",
      "Name: ZIP code, dtype: int64\n"
     ]
    }
   ],
   "source": [
    "postal_codes_test = (postal_codes[:5])\n",
    "print(postal_codes_test)"
   ]
  },
  {
   "cell_type": "code",
   "execution_count": 272,
   "id": "7cd35a2d",
   "metadata": {},
   "outputs": [
    {
     "name": "stdout",
     "output_type": "stream",
     "text": [
      "78250\n",
      "75023\n",
      "78754\n",
      "76001\n",
      "75068\n",
      "[{'statusCode': 401, 'error': 'Unauthorized', 'message': 'Invalid apiKey'}, {'statusCode': 401, 'error': 'Unauthorized', 'message': 'Invalid apiKey'}, {'statusCode': 401, 'error': 'Unauthorized', 'message': 'Invalid apiKey'}, {'statusCode': 401, 'error': 'Unauthorized', 'message': 'Invalid apiKey'}, {'statusCode': 401, 'error': 'Unauthorized', 'message': 'Invalid apiKey'}]\n"
     ]
    }
   ],
   "source": [
    "    for i, zipcode in enumerate(postal_codes_test):\n",
    "        set_count += 1\n",
    "        record_count = 0\n",
    "        \n",
    "        print(zipcode)\n",
    "        \n",
    "        zip_url = f\"{url}appid={geoapify_key}&q={zipcode}\"\n",
    "        response = requests.get(zip_url)\n",
    "        zip_data.append(response.json())\n",
    "        \n",
    "print(zip_data)"
   ]
  },
  {
   "cell_type": "code",
   "execution_count": null,
   "id": "552417bf",
   "metadata": {},
   "outputs": [],
   "source": [
    "geojson = px.data.election_geojson()\n",
    "fig = px.choropleth(zip_data, geojson=, locations='district', color='',\n",
    "                           color_continuous_scale=\"Viridis\",\n",
    "                           range_color=(0, 12),\n",
    "                           scope=\"texas\",\n",
    "                          )\n",
    "fig.update_layout(margin={\"r\":0,\"t\":0,\"l\":0,\"b\":0})\n"
   ]
  },
  {
   "cell_type": "code",
   "execution_count": 276,
   "id": "20819402",
   "metadata": {},
   "outputs": [
    {
     "ename": "TypeError",
     "evalue": "ufunc 'isfinite' not supported for the input types, and the inputs could not be safely coerced to any supported types according to the casting rule ''safe''",
     "output_type": "error",
     "traceback": [
      "\u001b[1;31m---------------------------------------------------------------------------\u001b[0m",
      "\u001b[1;31mTypeError\u001b[0m                                 Traceback (most recent call last)",
      "File \u001b[1;32mD:\\Anaconda\\envs\\dev\\lib\\site-packages\\IPython\\core\\formatters.py:974\u001b[0m, in \u001b[0;36mMimeBundleFormatter.__call__\u001b[1;34m(self, obj, include, exclude)\u001b[0m\n\u001b[0;32m    971\u001b[0m     method \u001b[38;5;241m=\u001b[39m get_real_method(obj, \u001b[38;5;28mself\u001b[39m\u001b[38;5;241m.\u001b[39mprint_method)\n\u001b[0;32m    973\u001b[0m     \u001b[38;5;28;01mif\u001b[39;00m method \u001b[38;5;129;01mis\u001b[39;00m \u001b[38;5;129;01mnot\u001b[39;00m \u001b[38;5;28;01mNone\u001b[39;00m:\n\u001b[1;32m--> 974\u001b[0m         \u001b[38;5;28;01mreturn\u001b[39;00m \u001b[43mmethod\u001b[49m\u001b[43m(\u001b[49m\u001b[43minclude\u001b[49m\u001b[38;5;241;43m=\u001b[39;49m\u001b[43minclude\u001b[49m\u001b[43m,\u001b[49m\u001b[43m \u001b[49m\u001b[43mexclude\u001b[49m\u001b[38;5;241;43m=\u001b[39;49m\u001b[43mexclude\u001b[49m\u001b[43m)\u001b[49m\n\u001b[0;32m    975\u001b[0m     \u001b[38;5;28;01mreturn\u001b[39;00m \u001b[38;5;28;01mNone\u001b[39;00m\n\u001b[0;32m    976\u001b[0m \u001b[38;5;28;01melse\u001b[39;00m:\n",
      "File \u001b[1;32mD:\\Anaconda\\envs\\dev\\lib\\site-packages\\holoviews\\core\\dimension.py:1290\u001b[0m, in \u001b[0;36mDimensioned._repr_mimebundle_\u001b[1;34m(self, include, exclude)\u001b[0m\n\u001b[0;32m   1283\u001b[0m \u001b[38;5;28;01mdef\u001b[39;00m \u001b[38;5;21m_repr_mimebundle_\u001b[39m(\u001b[38;5;28mself\u001b[39m, include\u001b[38;5;241m=\u001b[39m\u001b[38;5;28;01mNone\u001b[39;00m, exclude\u001b[38;5;241m=\u001b[39m\u001b[38;5;28;01mNone\u001b[39;00m):\n\u001b[0;32m   1284\u001b[0m \u001b[38;5;250m    \u001b[39m\u001b[38;5;124;03m\"\"\"\u001b[39;00m\n\u001b[0;32m   1285\u001b[0m \u001b[38;5;124;03m    Resolves the class hierarchy for the class rendering the\u001b[39;00m\n\u001b[0;32m   1286\u001b[0m \u001b[38;5;124;03m    object using any display hooks registered on Store.display\u001b[39;00m\n\u001b[0;32m   1287\u001b[0m \u001b[38;5;124;03m    hooks.  The output of all registered display_hooks is then\u001b[39;00m\n\u001b[0;32m   1288\u001b[0m \u001b[38;5;124;03m    combined and returned.\u001b[39;00m\n\u001b[0;32m   1289\u001b[0m \u001b[38;5;124;03m    \"\"\"\u001b[39;00m\n\u001b[1;32m-> 1290\u001b[0m     \u001b[38;5;28;01mreturn\u001b[39;00m \u001b[43mStore\u001b[49m\u001b[38;5;241;43m.\u001b[39;49m\u001b[43mrender\u001b[49m\u001b[43m(\u001b[49m\u001b[38;5;28;43mself\u001b[39;49m\u001b[43m)\u001b[49m\n",
      "File \u001b[1;32mD:\\Anaconda\\envs\\dev\\lib\\site-packages\\holoviews\\core\\options.py:1425\u001b[0m, in \u001b[0;36mStore.render\u001b[1;34m(cls, obj)\u001b[0m\n\u001b[0;32m   1423\u001b[0m data, metadata \u001b[38;5;241m=\u001b[39m {}, {}\n\u001b[0;32m   1424\u001b[0m \u001b[38;5;28;01mfor\u001b[39;00m hook \u001b[38;5;129;01min\u001b[39;00m hooks:\n\u001b[1;32m-> 1425\u001b[0m     ret \u001b[38;5;241m=\u001b[39m \u001b[43mhook\u001b[49m\u001b[43m(\u001b[49m\u001b[43mobj\u001b[49m\u001b[43m)\u001b[49m\n\u001b[0;32m   1426\u001b[0m     \u001b[38;5;28;01mif\u001b[39;00m ret \u001b[38;5;129;01mis\u001b[39;00m \u001b[38;5;28;01mNone\u001b[39;00m:\n\u001b[0;32m   1427\u001b[0m         \u001b[38;5;28;01mcontinue\u001b[39;00m\n",
      "File \u001b[1;32mD:\\Anaconda\\envs\\dev\\lib\\site-packages\\holoviews\\ipython\\display_hooks.py:280\u001b[0m, in \u001b[0;36mpprint_display\u001b[1;34m(obj)\u001b[0m\n\u001b[0;32m    278\u001b[0m \u001b[38;5;28;01mif\u001b[39;00m \u001b[38;5;129;01mnot\u001b[39;00m ip\u001b[38;5;241m.\u001b[39mdisplay_formatter\u001b[38;5;241m.\u001b[39mformatters[\u001b[38;5;124m'\u001b[39m\u001b[38;5;124mtext/plain\u001b[39m\u001b[38;5;124m'\u001b[39m]\u001b[38;5;241m.\u001b[39mpprint:\n\u001b[0;32m    279\u001b[0m     \u001b[38;5;28;01mreturn\u001b[39;00m \u001b[38;5;28;01mNone\u001b[39;00m\n\u001b[1;32m--> 280\u001b[0m \u001b[38;5;28;01mreturn\u001b[39;00m \u001b[43mdisplay\u001b[49m\u001b[43m(\u001b[49m\u001b[43mobj\u001b[49m\u001b[43m,\u001b[49m\u001b[43m \u001b[49m\u001b[43mraw_output\u001b[49m\u001b[38;5;241;43m=\u001b[39;49m\u001b[38;5;28;43;01mTrue\u001b[39;49;00m\u001b[43m)\u001b[49m\n",
      "File \u001b[1;32mD:\\Anaconda\\envs\\dev\\lib\\site-packages\\holoviews\\ipython\\display_hooks.py:248\u001b[0m, in \u001b[0;36mdisplay\u001b[1;34m(obj, raw_output, **kwargs)\u001b[0m\n\u001b[0;32m    246\u001b[0m \u001b[38;5;28;01melif\u001b[39;00m \u001b[38;5;28misinstance\u001b[39m(obj, (CompositeOverlay, ViewableElement)):\n\u001b[0;32m    247\u001b[0m     \u001b[38;5;28;01mwith\u001b[39;00m option_state(obj):\n\u001b[1;32m--> 248\u001b[0m         output \u001b[38;5;241m=\u001b[39m \u001b[43melement_display\u001b[49m\u001b[43m(\u001b[49m\u001b[43mobj\u001b[49m\u001b[43m)\u001b[49m\n\u001b[0;32m    249\u001b[0m \u001b[38;5;28;01melif\u001b[39;00m \u001b[38;5;28misinstance\u001b[39m(obj, (Layout, NdLayout, AdjointLayout)):\n\u001b[0;32m    250\u001b[0m     \u001b[38;5;28;01mwith\u001b[39;00m option_state(obj):\n",
      "File \u001b[1;32mD:\\Anaconda\\envs\\dev\\lib\\site-packages\\holoviews\\ipython\\display_hooks.py:142\u001b[0m, in \u001b[0;36mdisplay_hook.<locals>.wrapped\u001b[1;34m(element)\u001b[0m\n\u001b[0;32m    140\u001b[0m \u001b[38;5;28;01mtry\u001b[39;00m:\n\u001b[0;32m    141\u001b[0m     max_frames \u001b[38;5;241m=\u001b[39m OutputSettings\u001b[38;5;241m.\u001b[39moptions[\u001b[38;5;124m'\u001b[39m\u001b[38;5;124mmax_frames\u001b[39m\u001b[38;5;124m'\u001b[39m]\n\u001b[1;32m--> 142\u001b[0m     mimebundle \u001b[38;5;241m=\u001b[39m \u001b[43mfn\u001b[49m\u001b[43m(\u001b[49m\u001b[43melement\u001b[49m\u001b[43m,\u001b[49m\u001b[43m \u001b[49m\u001b[43mmax_frames\u001b[49m\u001b[38;5;241;43m=\u001b[39;49m\u001b[43mmax_frames\u001b[49m\u001b[43m)\u001b[49m\n\u001b[0;32m    143\u001b[0m     \u001b[38;5;28;01mif\u001b[39;00m mimebundle \u001b[38;5;129;01mis\u001b[39;00m \u001b[38;5;28;01mNone\u001b[39;00m:\n\u001b[0;32m    144\u001b[0m         \u001b[38;5;28;01mreturn\u001b[39;00m {}, {}\n",
      "File \u001b[1;32mD:\\Anaconda\\envs\\dev\\lib\\site-packages\\holoviews\\ipython\\display_hooks.py:188\u001b[0m, in \u001b[0;36melement_display\u001b[1;34m(element, max_frames)\u001b[0m\n\u001b[0;32m    185\u001b[0m \u001b[38;5;28;01mif\u001b[39;00m \u001b[38;5;28mtype\u001b[39m(element) \u001b[38;5;129;01mnot\u001b[39;00m \u001b[38;5;129;01min\u001b[39;00m Store\u001b[38;5;241m.\u001b[39mregistry[backend]:\n\u001b[0;32m    186\u001b[0m     \u001b[38;5;28;01mreturn\u001b[39;00m \u001b[38;5;28;01mNone\u001b[39;00m\n\u001b[1;32m--> 188\u001b[0m \u001b[38;5;28;01mreturn\u001b[39;00m \u001b[43mrender\u001b[49m\u001b[43m(\u001b[49m\u001b[43melement\u001b[49m\u001b[43m)\u001b[49m\n",
      "File \u001b[1;32mD:\\Anaconda\\envs\\dev\\lib\\site-packages\\holoviews\\ipython\\display_hooks.py:69\u001b[0m, in \u001b[0;36mrender\u001b[1;34m(obj, **kwargs)\u001b[0m\n\u001b[0;32m     66\u001b[0m \u001b[38;5;28;01mif\u001b[39;00m renderer\u001b[38;5;241m.\u001b[39mfig \u001b[38;5;241m==\u001b[39m \u001b[38;5;124m'\u001b[39m\u001b[38;5;124mpdf\u001b[39m\u001b[38;5;124m'\u001b[39m:\n\u001b[0;32m     67\u001b[0m     renderer \u001b[38;5;241m=\u001b[39m renderer\u001b[38;5;241m.\u001b[39minstance(fig\u001b[38;5;241m=\u001b[39m\u001b[38;5;124m'\u001b[39m\u001b[38;5;124mpng\u001b[39m\u001b[38;5;124m'\u001b[39m)\n\u001b[1;32m---> 69\u001b[0m \u001b[38;5;28;01mreturn\u001b[39;00m renderer\u001b[38;5;241m.\u001b[39mcomponents(obj, \u001b[38;5;241m*\u001b[39m\u001b[38;5;241m*\u001b[39mkwargs)\n",
      "File \u001b[1;32mD:\\Anaconda\\envs\\dev\\lib\\site-packages\\holoviews\\plotting\\renderer.py:399\u001b[0m, in \u001b[0;36mRenderer.components\u001b[1;34m(self, obj, fmt, comm, **kwargs)\u001b[0m\n\u001b[0;32m    396\u001b[0m embed \u001b[38;5;241m=\u001b[39m (\u001b[38;5;129;01mnot\u001b[39;00m (dynamic \u001b[38;5;129;01mor\u001b[39;00m streams \u001b[38;5;129;01mor\u001b[39;00m \u001b[38;5;28mself\u001b[39m\u001b[38;5;241m.\u001b[39mwidget_mode \u001b[38;5;241m==\u001b[39m \u001b[38;5;124m'\u001b[39m\u001b[38;5;124mlive\u001b[39m\u001b[38;5;124m'\u001b[39m) \u001b[38;5;129;01mor\u001b[39;00m config\u001b[38;5;241m.\u001b[39membed)\n\u001b[0;32m    398\u001b[0m \u001b[38;5;28;01mif\u001b[39;00m embed \u001b[38;5;129;01mor\u001b[39;00m config\u001b[38;5;241m.\u001b[39mcomms \u001b[38;5;241m==\u001b[39m \u001b[38;5;124m'\u001b[39m\u001b[38;5;124mdefault\u001b[39m\u001b[38;5;124m'\u001b[39m:\n\u001b[1;32m--> 399\u001b[0m     \u001b[38;5;28;01mreturn\u001b[39;00m \u001b[38;5;28;43mself\u001b[39;49m\u001b[38;5;241;43m.\u001b[39;49m\u001b[43m_render_panel\u001b[49m\u001b[43m(\u001b[49m\u001b[43mplot\u001b[49m\u001b[43m,\u001b[49m\u001b[43m \u001b[49m\u001b[43membed\u001b[49m\u001b[43m,\u001b[49m\u001b[43m \u001b[49m\u001b[43mcomm\u001b[49m\u001b[43m)\u001b[49m\n\u001b[0;32m    400\u001b[0m \u001b[38;5;28;01mreturn\u001b[39;00m \u001b[38;5;28mself\u001b[39m\u001b[38;5;241m.\u001b[39m_render_ipywidget(plot)\n",
      "File \u001b[1;32mD:\\Anaconda\\envs\\dev\\lib\\site-packages\\holoviews\\plotting\\renderer.py:406\u001b[0m, in \u001b[0;36mRenderer._render_panel\u001b[1;34m(self, plot, embed, comm)\u001b[0m\n\u001b[0;32m    404\u001b[0m doc \u001b[38;5;241m=\u001b[39m Document()\n\u001b[0;32m    405\u001b[0m \u001b[38;5;28;01mwith\u001b[39;00m config\u001b[38;5;241m.\u001b[39mset(embed\u001b[38;5;241m=\u001b[39membed):\n\u001b[1;32m--> 406\u001b[0m     model \u001b[38;5;241m=\u001b[39m \u001b[43mplot\u001b[49m\u001b[38;5;241;43m.\u001b[39;49m\u001b[43mlayout\u001b[49m\u001b[38;5;241;43m.\u001b[39;49m\u001b[43m_render_model\u001b[49m\u001b[43m(\u001b[49m\u001b[43mdoc\u001b[49m\u001b[43m,\u001b[49m\u001b[43m \u001b[49m\u001b[43mcomm\u001b[49m\u001b[43m)\u001b[49m\n\u001b[0;32m    407\u001b[0m \u001b[38;5;28;01mif\u001b[39;00m embed:\n\u001b[0;32m    408\u001b[0m     \u001b[38;5;28;01mreturn\u001b[39;00m render_model(model, comm)\n",
      "File \u001b[1;32mD:\\Anaconda\\envs\\dev\\lib\\site-packages\\panel\\viewable.py:736\u001b[0m, in \u001b[0;36mViewable._render_model\u001b[1;34m(self, doc, comm)\u001b[0m\n\u001b[0;32m    734\u001b[0m \u001b[38;5;28;01mif\u001b[39;00m comm \u001b[38;5;129;01mis\u001b[39;00m \u001b[38;5;28;01mNone\u001b[39;00m:\n\u001b[0;32m    735\u001b[0m     comm \u001b[38;5;241m=\u001b[39m state\u001b[38;5;241m.\u001b[39m_comm_manager\u001b[38;5;241m.\u001b[39mget_server_comm()\n\u001b[1;32m--> 736\u001b[0m model \u001b[38;5;241m=\u001b[39m \u001b[38;5;28;43mself\u001b[39;49m\u001b[38;5;241;43m.\u001b[39;49m\u001b[43mget_root\u001b[49m\u001b[43m(\u001b[49m\u001b[43mdoc\u001b[49m\u001b[43m,\u001b[49m\u001b[43m \u001b[49m\u001b[43mcomm\u001b[49m\u001b[43m)\u001b[49m\n\u001b[0;32m    738\u001b[0m \u001b[38;5;28;01mif\u001b[39;00m \u001b[38;5;28mself\u001b[39m\u001b[38;5;241m.\u001b[39m_design \u001b[38;5;129;01mand\u001b[39;00m \u001b[38;5;28mself\u001b[39m\u001b[38;5;241m.\u001b[39m_design\u001b[38;5;241m.\u001b[39mtheme\u001b[38;5;241m.\u001b[39mbokeh_theme:\n\u001b[0;32m    739\u001b[0m     doc\u001b[38;5;241m.\u001b[39mtheme \u001b[38;5;241m=\u001b[39m \u001b[38;5;28mself\u001b[39m\u001b[38;5;241m.\u001b[39m_design\u001b[38;5;241m.\u001b[39mtheme\u001b[38;5;241m.\u001b[39mbokeh_theme\n",
      "File \u001b[1;32mD:\\Anaconda\\envs\\dev\\lib\\site-packages\\panel\\layout\\base.py:289\u001b[0m, in \u001b[0;36mPanel.get_root\u001b[1;34m(self, doc, comm, preprocess)\u001b[0m\n\u001b[0;32m    285\u001b[0m \u001b[38;5;28;01mdef\u001b[39;00m \u001b[38;5;21mget_root\u001b[39m(\n\u001b[0;32m    286\u001b[0m     \u001b[38;5;28mself\u001b[39m, doc: Optional[Document] \u001b[38;5;241m=\u001b[39m \u001b[38;5;28;01mNone\u001b[39;00m, comm: Optional[Comm] \u001b[38;5;241m=\u001b[39m \u001b[38;5;28;01mNone\u001b[39;00m,\n\u001b[0;32m    287\u001b[0m     preprocess: \u001b[38;5;28mbool\u001b[39m \u001b[38;5;241m=\u001b[39m \u001b[38;5;28;01mTrue\u001b[39;00m\n\u001b[0;32m    288\u001b[0m ) \u001b[38;5;241m-\u001b[39m\u001b[38;5;241m>\u001b[39m Model:\n\u001b[1;32m--> 289\u001b[0m     root \u001b[38;5;241m=\u001b[39m \u001b[38;5;28;43msuper\u001b[39;49m\u001b[43m(\u001b[49m\u001b[43m)\u001b[49m\u001b[38;5;241;43m.\u001b[39;49m\u001b[43mget_root\u001b[49m\u001b[43m(\u001b[49m\u001b[43mdoc\u001b[49m\u001b[43m,\u001b[49m\u001b[43m \u001b[49m\u001b[43mcomm\u001b[49m\u001b[43m,\u001b[49m\u001b[43m \u001b[49m\u001b[43mpreprocess\u001b[49m\u001b[43m)\u001b[49m\n\u001b[0;32m    290\u001b[0m     \u001b[38;5;66;03m# ALERT: Find a better way to handle this\u001b[39;00m\n\u001b[0;32m    291\u001b[0m     \u001b[38;5;28;01mif\u001b[39;00m \u001b[38;5;28mhasattr\u001b[39m(root, \u001b[38;5;124m'\u001b[39m\u001b[38;5;124mstyles\u001b[39m\u001b[38;5;124m'\u001b[39m) \u001b[38;5;129;01mand\u001b[39;00m \u001b[38;5;124m'\u001b[39m\u001b[38;5;124moverflow-x\u001b[39m\u001b[38;5;124m'\u001b[39m \u001b[38;5;129;01min\u001b[39;00m root\u001b[38;5;241m.\u001b[39mstyles:\n",
      "File \u001b[1;32mD:\\Anaconda\\envs\\dev\\lib\\site-packages\\panel\\viewable.py:658\u001b[0m, in \u001b[0;36mRenderable.get_root\u001b[1;34m(self, doc, comm, preprocess)\u001b[0m\n\u001b[0;32m    656\u001b[0m wrapper \u001b[38;5;241m=\u001b[39m \u001b[38;5;28mself\u001b[39m\u001b[38;5;241m.\u001b[39m_design\u001b[38;5;241m.\u001b[39m_wrapper(\u001b[38;5;28mself\u001b[39m)\n\u001b[0;32m    657\u001b[0m \u001b[38;5;28;01mif\u001b[39;00m wrapper \u001b[38;5;129;01mis\u001b[39;00m \u001b[38;5;28mself\u001b[39m:\n\u001b[1;32m--> 658\u001b[0m     root \u001b[38;5;241m=\u001b[39m \u001b[38;5;28;43mself\u001b[39;49m\u001b[38;5;241;43m.\u001b[39;49m\u001b[43m_get_model\u001b[49m\u001b[43m(\u001b[49m\u001b[43mdoc\u001b[49m\u001b[43m,\u001b[49m\u001b[43m \u001b[49m\u001b[43mcomm\u001b[49m\u001b[38;5;241;43m=\u001b[39;49m\u001b[43mcomm\u001b[49m\u001b[43m)\u001b[49m\n\u001b[0;32m    659\u001b[0m     \u001b[38;5;28;01mif\u001b[39;00m preprocess:\n\u001b[0;32m    660\u001b[0m         \u001b[38;5;28mself\u001b[39m\u001b[38;5;241m.\u001b[39m_preprocess(root)\n",
      "File \u001b[1;32mD:\\Anaconda\\envs\\dev\\lib\\site-packages\\panel\\layout\\base.py:173\u001b[0m, in \u001b[0;36mPanel._get_model\u001b[1;34m(self, doc, root, parent, comm)\u001b[0m\n\u001b[0;32m    171\u001b[0m root \u001b[38;5;241m=\u001b[39m root \u001b[38;5;129;01mor\u001b[39;00m model\n\u001b[0;32m    172\u001b[0m \u001b[38;5;28mself\u001b[39m\u001b[38;5;241m.\u001b[39m_models[root\u001b[38;5;241m.\u001b[39mref[\u001b[38;5;124m'\u001b[39m\u001b[38;5;124mid\u001b[39m\u001b[38;5;124m'\u001b[39m]] \u001b[38;5;241m=\u001b[39m (model, parent)\n\u001b[1;32m--> 173\u001b[0m objects, _ \u001b[38;5;241m=\u001b[39m \u001b[38;5;28;43mself\u001b[39;49m\u001b[38;5;241;43m.\u001b[39;49m\u001b[43m_get_objects\u001b[49m\u001b[43m(\u001b[49m\u001b[43mmodel\u001b[49m\u001b[43m,\u001b[49m\u001b[43m \u001b[49m\u001b[43m[\u001b[49m\u001b[43m]\u001b[49m\u001b[43m,\u001b[49m\u001b[43m \u001b[49m\u001b[43mdoc\u001b[49m\u001b[43m,\u001b[49m\u001b[43m \u001b[49m\u001b[43mroot\u001b[49m\u001b[43m,\u001b[49m\u001b[43m \u001b[49m\u001b[43mcomm\u001b[49m\u001b[43m)\u001b[49m\n\u001b[0;32m    174\u001b[0m props \u001b[38;5;241m=\u001b[39m \u001b[38;5;28mself\u001b[39m\u001b[38;5;241m.\u001b[39m_get_properties(doc)\n\u001b[0;32m    175\u001b[0m props[\u001b[38;5;28mself\u001b[39m\u001b[38;5;241m.\u001b[39m_property_mapping[\u001b[38;5;124m'\u001b[39m\u001b[38;5;124mobjects\u001b[39m\u001b[38;5;124m'\u001b[39m]] \u001b[38;5;241m=\u001b[39m objects\n",
      "File \u001b[1;32mD:\\Anaconda\\envs\\dev\\lib\\site-packages\\panel\\layout\\base.py:155\u001b[0m, in \u001b[0;36mPanel._get_objects\u001b[1;34m(self, model, old_objects, doc, root, comm)\u001b[0m\n\u001b[0;32m    153\u001b[0m \u001b[38;5;28;01melse\u001b[39;00m:\n\u001b[0;32m    154\u001b[0m     \u001b[38;5;28;01mtry\u001b[39;00m:\n\u001b[1;32m--> 155\u001b[0m         child \u001b[38;5;241m=\u001b[39m \u001b[43mpane\u001b[49m\u001b[38;5;241;43m.\u001b[39;49m\u001b[43m_get_model\u001b[49m\u001b[43m(\u001b[49m\u001b[43mdoc\u001b[49m\u001b[43m,\u001b[49m\u001b[43m \u001b[49m\u001b[43mroot\u001b[49m\u001b[43m,\u001b[49m\u001b[43m \u001b[49m\u001b[43mmodel\u001b[49m\u001b[43m,\u001b[49m\u001b[43m \u001b[49m\u001b[43mcomm\u001b[49m\u001b[43m)\u001b[49m\n\u001b[0;32m    156\u001b[0m     \u001b[38;5;28;01mexcept\u001b[39;00m RerenderError \u001b[38;5;28;01mas\u001b[39;00m e:\n\u001b[0;32m    157\u001b[0m         \u001b[38;5;28;01mif\u001b[39;00m e\u001b[38;5;241m.\u001b[39mlayout \u001b[38;5;129;01mis\u001b[39;00m \u001b[38;5;129;01mnot\u001b[39;00m \u001b[38;5;28;01mNone\u001b[39;00m \u001b[38;5;129;01mand\u001b[39;00m e\u001b[38;5;241m.\u001b[39mlayout \u001b[38;5;129;01mis\u001b[39;00m \u001b[38;5;129;01mnot\u001b[39;00m \u001b[38;5;28mself\u001b[39m:\n",
      "File \u001b[1;32mD:\\Anaconda\\envs\\dev\\lib\\site-packages\\panel\\pane\\holoviews.py:411\u001b[0m, in \u001b[0;36mHoloViews._get_model\u001b[1;34m(self, doc, root, parent, comm)\u001b[0m\n\u001b[0;32m    409\u001b[0m     plot \u001b[38;5;241m=\u001b[39m \u001b[38;5;28mself\u001b[39m\u001b[38;5;241m.\u001b[39mobject\n\u001b[0;32m    410\u001b[0m \u001b[38;5;28;01melse\u001b[39;00m:\n\u001b[1;32m--> 411\u001b[0m     plot \u001b[38;5;241m=\u001b[39m \u001b[38;5;28;43mself\u001b[39;49m\u001b[38;5;241;43m.\u001b[39;49m\u001b[43m_render\u001b[49m\u001b[43m(\u001b[49m\u001b[43mdoc\u001b[49m\u001b[43m,\u001b[49m\u001b[43m \u001b[49m\u001b[43mcomm\u001b[49m\u001b[43m,\u001b[49m\u001b[43m \u001b[49m\u001b[43mroot\u001b[49m\u001b[43m)\u001b[49m\n\u001b[0;32m    413\u001b[0m plot\u001b[38;5;241m.\u001b[39mpane \u001b[38;5;241m=\u001b[39m \u001b[38;5;28mself\u001b[39m\n\u001b[0;32m    414\u001b[0m backend \u001b[38;5;241m=\u001b[39m plot\u001b[38;5;241m.\u001b[39mrenderer\u001b[38;5;241m.\u001b[39mbackend\n",
      "File \u001b[1;32mD:\\Anaconda\\envs\\dev\\lib\\site-packages\\panel\\pane\\holoviews.py:506\u001b[0m, in \u001b[0;36mHoloViews._render\u001b[1;34m(self, doc, comm, root)\u001b[0m\n\u001b[0;32m    503\u001b[0m     \u001b[38;5;28;01mif\u001b[39;00m comm:\n\u001b[0;32m    504\u001b[0m         kwargs[\u001b[38;5;124m'\u001b[39m\u001b[38;5;124mcomm\u001b[39m\u001b[38;5;124m'\u001b[39m] \u001b[38;5;241m=\u001b[39m comm\n\u001b[1;32m--> 506\u001b[0m \u001b[38;5;28;01mreturn\u001b[39;00m renderer\u001b[38;5;241m.\u001b[39mget_plot(\u001b[38;5;28mself\u001b[39m\u001b[38;5;241m.\u001b[39mobject, \u001b[38;5;241m*\u001b[39m\u001b[38;5;241m*\u001b[39mkwargs)\n",
      "File \u001b[1;32mD:\\Anaconda\\envs\\dev\\lib\\site-packages\\holoviews\\plotting\\bokeh\\renderer.py:70\u001b[0m, in \u001b[0;36mBokehRenderer.get_plot\u001b[1;34m(self_or_cls, obj, doc, renderer, **kwargs)\u001b[0m\n\u001b[0;32m     63\u001b[0m \u001b[38;5;129m@bothmethod\u001b[39m\n\u001b[0;32m     64\u001b[0m \u001b[38;5;28;01mdef\u001b[39;00m \u001b[38;5;21mget_plot\u001b[39m(self_or_cls, obj, doc\u001b[38;5;241m=\u001b[39m\u001b[38;5;28;01mNone\u001b[39;00m, renderer\u001b[38;5;241m=\u001b[39m\u001b[38;5;28;01mNone\u001b[39;00m, \u001b[38;5;241m*\u001b[39m\u001b[38;5;241m*\u001b[39mkwargs):\n\u001b[0;32m     65\u001b[0m \u001b[38;5;250m    \u001b[39m\u001b[38;5;124;03m\"\"\"\u001b[39;00m\n\u001b[0;32m     66\u001b[0m \u001b[38;5;124;03m    Given a HoloViews Viewable return a corresponding plot instance.\u001b[39;00m\n\u001b[0;32m     67\u001b[0m \u001b[38;5;124;03m    Allows supplying a document attach the plot to, useful when\u001b[39;00m\n\u001b[0;32m     68\u001b[0m \u001b[38;5;124;03m    combining the bokeh model with another plot.\u001b[39;00m\n\u001b[0;32m     69\u001b[0m \u001b[38;5;124;03m    \"\"\"\u001b[39;00m\n\u001b[1;32m---> 70\u001b[0m     plot \u001b[38;5;241m=\u001b[39m \u001b[38;5;28msuper\u001b[39m()\u001b[38;5;241m.\u001b[39mget_plot(obj, doc, renderer, \u001b[38;5;241m*\u001b[39m\u001b[38;5;241m*\u001b[39mkwargs)\n\u001b[0;32m     71\u001b[0m     \u001b[38;5;28;01mif\u001b[39;00m plot\u001b[38;5;241m.\u001b[39mdocument \u001b[38;5;129;01mis\u001b[39;00m \u001b[38;5;28;01mNone\u001b[39;00m:\n\u001b[0;32m     72\u001b[0m         plot\u001b[38;5;241m.\u001b[39mdocument \u001b[38;5;241m=\u001b[39m Document() \u001b[38;5;28;01mif\u001b[39;00m self_or_cls\u001b[38;5;241m.\u001b[39mnotebook_context \u001b[38;5;28;01melse\u001b[39;00m curdoc()\n",
      "File \u001b[1;32mD:\\Anaconda\\envs\\dev\\lib\\site-packages\\holoviews\\plotting\\renderer.py:241\u001b[0m, in \u001b[0;36mRenderer.get_plot\u001b[1;34m(self_or_cls, obj, doc, renderer, comm, **kwargs)\u001b[0m\n\u001b[0;32m    238\u001b[0m     defaults \u001b[38;5;241m=\u001b[39m [kd\u001b[38;5;241m.\u001b[39mdefault \u001b[38;5;28;01mfor\u001b[39;00m kd \u001b[38;5;129;01min\u001b[39;00m plot\u001b[38;5;241m.\u001b[39mdimensions]\n\u001b[0;32m    239\u001b[0m     init_key \u001b[38;5;241m=\u001b[39m \u001b[38;5;28mtuple\u001b[39m(v \u001b[38;5;28;01mif\u001b[39;00m d \u001b[38;5;129;01mis\u001b[39;00m \u001b[38;5;28;01mNone\u001b[39;00m \u001b[38;5;28;01melse\u001b[39;00m d \u001b[38;5;28;01mfor\u001b[39;00m v, d \u001b[38;5;129;01min\u001b[39;00m\n\u001b[0;32m    240\u001b[0m                      \u001b[38;5;28mzip\u001b[39m(plot\u001b[38;5;241m.\u001b[39mkeys[\u001b[38;5;241m0\u001b[39m], defaults))\n\u001b[1;32m--> 241\u001b[0m     \u001b[43mplot\u001b[49m\u001b[38;5;241;43m.\u001b[39;49m\u001b[43mupdate\u001b[49m\u001b[43m(\u001b[49m\u001b[43minit_key\u001b[49m\u001b[43m)\u001b[49m\n\u001b[0;32m    242\u001b[0m \u001b[38;5;28;01melse\u001b[39;00m:\n\u001b[0;32m    243\u001b[0m     plot \u001b[38;5;241m=\u001b[39m obj\n",
      "File \u001b[1;32mD:\\Anaconda\\envs\\dev\\lib\\site-packages\\holoviews\\plotting\\plot.py:936\u001b[0m, in \u001b[0;36mDimensionedPlot.update\u001b[1;34m(self, key)\u001b[0m\n\u001b[0;32m    934\u001b[0m \u001b[38;5;28;01mdef\u001b[39;00m \u001b[38;5;21mupdate\u001b[39m(\u001b[38;5;28mself\u001b[39m, key):\n\u001b[0;32m    935\u001b[0m     \u001b[38;5;28;01mif\u001b[39;00m \u001b[38;5;28mlen\u001b[39m(\u001b[38;5;28mself\u001b[39m) \u001b[38;5;241m==\u001b[39m \u001b[38;5;241m1\u001b[39m \u001b[38;5;129;01mand\u001b[39;00m ((key \u001b[38;5;241m==\u001b[39m \u001b[38;5;241m0\u001b[39m) \u001b[38;5;129;01mor\u001b[39;00m (key \u001b[38;5;241m==\u001b[39m \u001b[38;5;28mself\u001b[39m\u001b[38;5;241m.\u001b[39mkeys[\u001b[38;5;241m0\u001b[39m])) \u001b[38;5;129;01mand\u001b[39;00m \u001b[38;5;129;01mnot\u001b[39;00m \u001b[38;5;28mself\u001b[39m\u001b[38;5;241m.\u001b[39mdrawn:\n\u001b[1;32m--> 936\u001b[0m         \u001b[38;5;28;01mreturn\u001b[39;00m \u001b[38;5;28;43mself\u001b[39;49m\u001b[38;5;241;43m.\u001b[39;49m\u001b[43minitialize_plot\u001b[49m\u001b[43m(\u001b[49m\u001b[43m)\u001b[49m\n\u001b[0;32m    937\u001b[0m     item \u001b[38;5;241m=\u001b[39m \u001b[38;5;28mself\u001b[39m\u001b[38;5;241m.\u001b[39m\u001b[38;5;21m__getitem__\u001b[39m(key)\n\u001b[0;32m    938\u001b[0m     \u001b[38;5;28mself\u001b[39m\u001b[38;5;241m.\u001b[39mtraverse(\u001b[38;5;28;01mlambda\u001b[39;00m x: \u001b[38;5;28msetattr\u001b[39m(x, \u001b[38;5;124m'\u001b[39m\u001b[38;5;124m_updated\u001b[39m\u001b[38;5;124m'\u001b[39m, \u001b[38;5;28;01mTrue\u001b[39;00m))\n",
      "File \u001b[1;32mD:\\Anaconda\\envs\\dev\\lib\\site-packages\\geoviews\\plotting\\bokeh\\plot.py:106\u001b[0m, in \u001b[0;36mGeoPlot.initialize_plot\u001b[1;34m(self, ranges, plot, plots, source)\u001b[0m\n\u001b[0;32m    104\u001b[0m \u001b[38;5;28;01mdef\u001b[39;00m \u001b[38;5;21minitialize_plot\u001b[39m(\u001b[38;5;28mself\u001b[39m, ranges\u001b[38;5;241m=\u001b[39m\u001b[38;5;28;01mNone\u001b[39;00m, plot\u001b[38;5;241m=\u001b[39m\u001b[38;5;28;01mNone\u001b[39;00m, plots\u001b[38;5;241m=\u001b[39m\u001b[38;5;28;01mNone\u001b[39;00m, source\u001b[38;5;241m=\u001b[39m\u001b[38;5;28;01mNone\u001b[39;00m):\n\u001b[0;32m    105\u001b[0m     opts \u001b[38;5;241m=\u001b[39m {} \u001b[38;5;28;01mif\u001b[39;00m \u001b[38;5;28misinstance\u001b[39m(\u001b[38;5;28mself\u001b[39m, HvOverlayPlot) \u001b[38;5;28;01melse\u001b[39;00m {\u001b[38;5;124m'\u001b[39m\u001b[38;5;124msource\u001b[39m\u001b[38;5;124m'\u001b[39m: source}\n\u001b[1;32m--> 106\u001b[0m     fig \u001b[38;5;241m=\u001b[39m \u001b[38;5;28msuper\u001b[39m()\u001b[38;5;241m.\u001b[39minitialize_plot(ranges, plot, plots, \u001b[38;5;241m*\u001b[39m\u001b[38;5;241m*\u001b[39mopts)\n\u001b[0;32m    107\u001b[0m     \u001b[38;5;28;01mif\u001b[39;00m \u001b[38;5;28mself\u001b[39m\u001b[38;5;241m.\u001b[39mgeographic \u001b[38;5;129;01mand\u001b[39;00m \u001b[38;5;28mself\u001b[39m\u001b[38;5;241m.\u001b[39mshow_bounds \u001b[38;5;129;01mand\u001b[39;00m \u001b[38;5;129;01mnot\u001b[39;00m \u001b[38;5;28mself\u001b[39m\u001b[38;5;241m.\u001b[39moverlaid:\n\u001b[0;32m    108\u001b[0m         \u001b[38;5;28;01mfrom\u001b[39;00m \u001b[38;5;21;01m.\u001b[39;00m \u001b[38;5;28;01mimport\u001b[39;00m GeoShapePlot\n",
      "File \u001b[1;32mD:\\Anaconda\\envs\\dev\\lib\\site-packages\\holoviews\\plotting\\bokeh\\element.py:2493\u001b[0m, in \u001b[0;36mOverlayPlot.initialize_plot\u001b[1;34m(self, ranges, plot, plots)\u001b[0m\n\u001b[0;32m   2491\u001b[0m \u001b[38;5;28mself\u001b[39m\u001b[38;5;241m.\u001b[39mtabs \u001b[38;5;241m=\u001b[39m \u001b[38;5;28mself\u001b[39m\u001b[38;5;241m.\u001b[39mtabs \u001b[38;5;129;01mor\u001b[39;00m \u001b[38;5;28many\u001b[39m(\u001b[38;5;28misinstance\u001b[39m(sp, TablePlot) \u001b[38;5;28;01mfor\u001b[39;00m sp \u001b[38;5;129;01min\u001b[39;00m \u001b[38;5;28mself\u001b[39m\u001b[38;5;241m.\u001b[39msubplots\u001b[38;5;241m.\u001b[39mvalues())\n\u001b[0;32m   2492\u001b[0m \u001b[38;5;28;01mif\u001b[39;00m plot \u001b[38;5;129;01mis\u001b[39;00m \u001b[38;5;28;01mNone\u001b[39;00m \u001b[38;5;129;01mand\u001b[39;00m \u001b[38;5;129;01mnot\u001b[39;00m \u001b[38;5;28mself\u001b[39m\u001b[38;5;241m.\u001b[39mtabs \u001b[38;5;129;01mand\u001b[39;00m \u001b[38;5;129;01mnot\u001b[39;00m \u001b[38;5;28mself\u001b[39m\u001b[38;5;241m.\u001b[39mbatched:\n\u001b[1;32m-> 2493\u001b[0m     plot \u001b[38;5;241m=\u001b[39m \u001b[38;5;28;43mself\u001b[39;49m\u001b[38;5;241;43m.\u001b[39;49m\u001b[43m_init_plot\u001b[49m\u001b[43m(\u001b[49m\u001b[43mkey\u001b[49m\u001b[43m,\u001b[49m\u001b[43m \u001b[49m\u001b[43melement\u001b[49m\u001b[43m,\u001b[49m\u001b[43m \u001b[49m\u001b[43mranges\u001b[49m\u001b[38;5;241;43m=\u001b[39;49m\u001b[43mranges\u001b[49m\u001b[43m,\u001b[49m\u001b[43m \u001b[49m\u001b[43mplots\u001b[49m\u001b[38;5;241;43m=\u001b[39;49m\u001b[43mplots\u001b[49m\u001b[43m)\u001b[49m\n\u001b[0;32m   2494\u001b[0m     \u001b[38;5;28mself\u001b[39m\u001b[38;5;241m.\u001b[39m_init_axes(plot)\n\u001b[0;32m   2495\u001b[0m \u001b[38;5;28mself\u001b[39m\u001b[38;5;241m.\u001b[39mhandles[\u001b[38;5;124m'\u001b[39m\u001b[38;5;124mplot\u001b[39m\u001b[38;5;124m'\u001b[39m] \u001b[38;5;241m=\u001b[39m plot\n",
      "File \u001b[1;32mD:\\Anaconda\\envs\\dev\\lib\\site-packages\\holoviews\\plotting\\bokeh\\element.py:487\u001b[0m, in \u001b[0;36mElementPlot._init_plot\u001b[1;34m(self, key, element, plots, ranges)\u001b[0m\n\u001b[0;32m    480\u001b[0m \u001b[38;5;250m\u001b[39m\u001b[38;5;124;03m\"\"\"\u001b[39;00m\n\u001b[0;32m    481\u001b[0m \u001b[38;5;124;03mInitializes Bokeh figure to draw Element into and sets basic\u001b[39;00m\n\u001b[0;32m    482\u001b[0m \u001b[38;5;124;03mfigure and axis attributes including axes types, labels,\u001b[39;00m\n\u001b[0;32m    483\u001b[0m \u001b[38;5;124;03mtitles and plot height and width.\u001b[39;00m\n\u001b[0;32m    484\u001b[0m \u001b[38;5;124;03m\"\"\"\u001b[39;00m\n\u001b[0;32m    485\u001b[0m subplots \u001b[38;5;241m=\u001b[39m \u001b[38;5;28mlist\u001b[39m(\u001b[38;5;28mself\u001b[39m\u001b[38;5;241m.\u001b[39msubplots\u001b[38;5;241m.\u001b[39mvalues()) \u001b[38;5;28;01mif\u001b[39;00m \u001b[38;5;28mself\u001b[39m\u001b[38;5;241m.\u001b[39msubplots \u001b[38;5;28;01melse\u001b[39;00m []\n\u001b[1;32m--> 487\u001b[0m axis_types, labels, plot_ranges \u001b[38;5;241m=\u001b[39m \u001b[38;5;28;43mself\u001b[39;49m\u001b[38;5;241;43m.\u001b[39;49m\u001b[43m_axes_props\u001b[49m\u001b[43m(\u001b[49m\u001b[43mplots\u001b[49m\u001b[43m,\u001b[49m\u001b[43m \u001b[49m\u001b[43msubplots\u001b[49m\u001b[43m,\u001b[49m\u001b[43m \u001b[49m\u001b[43melement\u001b[49m\u001b[43m,\u001b[49m\u001b[43m \u001b[49m\u001b[43mranges\u001b[49m\u001b[43m)\u001b[49m\n\u001b[0;32m    488\u001b[0m xlabel, ylabel, _ \u001b[38;5;241m=\u001b[39m labels\n\u001b[0;32m    489\u001b[0m x_axis_type, y_axis_type \u001b[38;5;241m=\u001b[39m axis_types\n",
      "File \u001b[1;32mD:\\Anaconda\\envs\\dev\\lib\\site-packages\\holoviews\\plotting\\bokeh\\element.py:398\u001b[0m, in \u001b[0;36mElementPlot._axes_props\u001b[1;34m(self, plots, subplots, element, ranges)\u001b[0m\n\u001b[0;32m    396\u001b[0m \u001b[38;5;66;03m# Get the Element that determines the range and get_extents\u001b[39;00m\n\u001b[0;32m    397\u001b[0m range_el \u001b[38;5;241m=\u001b[39m el \u001b[38;5;28;01mif\u001b[39;00m \u001b[38;5;28mself\u001b[39m\u001b[38;5;241m.\u001b[39mbatched \u001b[38;5;129;01mand\u001b[39;00m \u001b[38;5;129;01mnot\u001b[39;00m \u001b[38;5;28misinstance\u001b[39m(\u001b[38;5;28mself\u001b[39m, OverlayPlot) \u001b[38;5;28;01melse\u001b[39;00m element\n\u001b[1;32m--> 398\u001b[0m l, b, r, t \u001b[38;5;241m=\u001b[39m \u001b[38;5;28;43mself\u001b[39;49m\u001b[38;5;241;43m.\u001b[39;49m\u001b[43mget_extents\u001b[49m\u001b[43m(\u001b[49m\u001b[43mrange_el\u001b[49m\u001b[43m,\u001b[49m\u001b[43m \u001b[49m\u001b[43mranges\u001b[49m\u001b[43m)\u001b[49m\n\u001b[0;32m    399\u001b[0m \u001b[38;5;28;01mif\u001b[39;00m \u001b[38;5;28mself\u001b[39m\u001b[38;5;241m.\u001b[39minvert_axes:\n\u001b[0;32m    400\u001b[0m     l, b, r, t \u001b[38;5;241m=\u001b[39m b, l, t, r\n",
      "File \u001b[1;32mD:\\Anaconda\\envs\\dev\\lib\\site-packages\\geoviews\\plotting\\plot.py:67\u001b[0m, in \u001b[0;36mProjectionPlot.get_extents\u001b[1;34m(self, element, ranges, range_type)\u001b[0m\n\u001b[0;32m     65\u001b[0m     (x0, x1), (y0, y1) \u001b[38;5;241m=\u001b[39m proj\u001b[38;5;241m.\u001b[39mx_limits, proj\u001b[38;5;241m.\u001b[39my_limits\n\u001b[0;32m     66\u001b[0m     \u001b[38;5;28;01mreturn\u001b[39;00m (x0, y0, x1, y1)\n\u001b[1;32m---> 67\u001b[0m extents \u001b[38;5;241m=\u001b[39m \u001b[38;5;28;43msuper\u001b[39;49m\u001b[43m(\u001b[49m\u001b[43m)\u001b[49m\u001b[38;5;241;43m.\u001b[39;49m\u001b[43mget_extents\u001b[49m\u001b[43m(\u001b[49m\u001b[43melement\u001b[49m\u001b[43m,\u001b[49m\u001b[43m \u001b[49m\u001b[43mranges\u001b[49m\u001b[43m,\u001b[49m\u001b[43m \u001b[49m\u001b[43mrange_type\u001b[49m\u001b[43m)\u001b[49m\n\u001b[0;32m     68\u001b[0m \u001b[38;5;28;01mif\u001b[39;00m \u001b[38;5;129;01mnot\u001b[39;00m \u001b[38;5;28mgetattr\u001b[39m(element, \u001b[38;5;124m'\u001b[39m\u001b[38;5;124mcrs\u001b[39m\u001b[38;5;124m'\u001b[39m, \u001b[38;5;28;01mNone\u001b[39;00m) \u001b[38;5;129;01mor\u001b[39;00m \u001b[38;5;129;01mnot\u001b[39;00m \u001b[38;5;28mself\u001b[39m\u001b[38;5;241m.\u001b[39mgeographic:\n\u001b[0;32m     69\u001b[0m     \u001b[38;5;28;01mreturn\u001b[39;00m extents\n",
      "File \u001b[1;32mD:\\Anaconda\\envs\\dev\\lib\\site-packages\\holoviews\\plotting\\plot.py:1799\u001b[0m, in \u001b[0;36mGenericOverlayPlot.get_extents\u001b[1;34m(self, overlay, ranges, range_type)\u001b[0m\n\u001b[0;32m   1798\u001b[0m \u001b[38;5;28;01mdef\u001b[39;00m \u001b[38;5;21mget_extents\u001b[39m(\u001b[38;5;28mself\u001b[39m, overlay, ranges, range_type\u001b[38;5;241m=\u001b[39m\u001b[38;5;124m'\u001b[39m\u001b[38;5;124mcombined\u001b[39m\u001b[38;5;124m'\u001b[39m):\n\u001b[1;32m-> 1799\u001b[0m     subplot_extents \u001b[38;5;241m=\u001b[39m \u001b[38;5;28;43mself\u001b[39;49m\u001b[38;5;241;43m.\u001b[39;49m\u001b[43m_get_subplot_extents\u001b[49m\u001b[43m(\u001b[49m\u001b[43moverlay\u001b[49m\u001b[43m,\u001b[49m\u001b[43m \u001b[49m\u001b[43mranges\u001b[49m\u001b[43m,\u001b[49m\u001b[43m \u001b[49m\u001b[43mrange_type\u001b[49m\u001b[43m)\u001b[49m\n\u001b[0;32m   1800\u001b[0m     zrange \u001b[38;5;241m=\u001b[39m \u001b[38;5;28misinstance\u001b[39m(\u001b[38;5;28mself\u001b[39m\u001b[38;5;241m.\u001b[39mprojection, \u001b[38;5;28mstr\u001b[39m) \u001b[38;5;129;01mand\u001b[39;00m \u001b[38;5;28mself\u001b[39m\u001b[38;5;241m.\u001b[39mprojection \u001b[38;5;241m==\u001b[39m \u001b[38;5;124m'\u001b[39m\u001b[38;5;124m3d\u001b[39m\u001b[38;5;124m'\u001b[39m\n\u001b[0;32m   1801\u001b[0m     extents \u001b[38;5;241m=\u001b[39m {k: util\u001b[38;5;241m.\u001b[39mmax_extents(rs, zrange) \u001b[38;5;28;01mfor\u001b[39;00m k, rs \u001b[38;5;129;01min\u001b[39;00m subplot_extents\u001b[38;5;241m.\u001b[39mitems()}\n",
      "File \u001b[1;32mD:\\Anaconda\\envs\\dev\\lib\\site-packages\\holoviews\\plotting\\plot.py:1794\u001b[0m, in \u001b[0;36mGenericOverlayPlot._get_subplot_extents\u001b[1;34m(self, overlay, ranges, range_type)\u001b[0m\n\u001b[0;32m   1792\u001b[0m         sp_ranges \u001b[38;5;241m=\u001b[39m util\u001b[38;5;241m.\u001b[39mmatch_spec(layer, ranges) \u001b[38;5;28;01mif\u001b[39;00m ranges \u001b[38;5;28;01melse\u001b[39;00m {}\n\u001b[0;32m   1793\u001b[0m     \u001b[38;5;28;01mfor\u001b[39;00m rt \u001b[38;5;129;01min\u001b[39;00m extents:\n\u001b[1;32m-> 1794\u001b[0m         extent \u001b[38;5;241m=\u001b[39m \u001b[43msubplot\u001b[49m\u001b[38;5;241;43m.\u001b[39;49m\u001b[43mget_extents\u001b[49m\u001b[43m(\u001b[49m\u001b[43mlayer\u001b[49m\u001b[43m,\u001b[49m\u001b[43m \u001b[49m\u001b[43msp_ranges\u001b[49m\u001b[43m,\u001b[49m\u001b[43m \u001b[49m\u001b[43mrange_type\u001b[49m\u001b[38;5;241;43m=\u001b[39;49m\u001b[43mrt\u001b[49m\u001b[43m)\u001b[49m\n\u001b[0;32m   1795\u001b[0m         extents[rt]\u001b[38;5;241m.\u001b[39mappend(extent)\n\u001b[0;32m   1796\u001b[0m \u001b[38;5;28;01mreturn\u001b[39;00m extents\n",
      "File \u001b[1;32mD:\\Anaconda\\envs\\dev\\lib\\site-packages\\geoviews\\plotting\\plot.py:70\u001b[0m, in \u001b[0;36mProjectionPlot.get_extents\u001b[1;34m(self, element, ranges, range_type)\u001b[0m\n\u001b[0;32m     68\u001b[0m \u001b[38;5;28;01mif\u001b[39;00m \u001b[38;5;129;01mnot\u001b[39;00m \u001b[38;5;28mgetattr\u001b[39m(element, \u001b[38;5;124m'\u001b[39m\u001b[38;5;124mcrs\u001b[39m\u001b[38;5;124m'\u001b[39m, \u001b[38;5;28;01mNone\u001b[39;00m) \u001b[38;5;129;01mor\u001b[39;00m \u001b[38;5;129;01mnot\u001b[39;00m \u001b[38;5;28mself\u001b[39m\u001b[38;5;241m.\u001b[39mgeographic:\n\u001b[0;32m     69\u001b[0m     \u001b[38;5;28;01mreturn\u001b[39;00m extents\n\u001b[1;32m---> 70\u001b[0m \u001b[38;5;28;01melif\u001b[39;00m \u001b[38;5;28;43many\u001b[39;49m\u001b[43m(\u001b[49m\u001b[43me\u001b[49m\u001b[43m \u001b[49m\u001b[38;5;129;43;01mis\u001b[39;49;00m\u001b[43m \u001b[49m\u001b[38;5;28;43;01mNone\u001b[39;49;00m\u001b[43m \u001b[49m\u001b[38;5;129;43;01mor\u001b[39;49;00m\u001b[43m \u001b[49m\u001b[38;5;129;43;01mnot\u001b[39;49;00m\u001b[43m \u001b[49m\u001b[43mnp\u001b[49m\u001b[38;5;241;43m.\u001b[39;49m\u001b[43misfinite\u001b[49m\u001b[43m(\u001b[49m\u001b[43me\u001b[49m\u001b[43m)\u001b[49m\u001b[43m \u001b[49m\u001b[38;5;28;43;01mfor\u001b[39;49;00m\u001b[43m \u001b[49m\u001b[43me\u001b[49m\u001b[43m \u001b[49m\u001b[38;5;129;43;01min\u001b[39;49;00m\u001b[43m \u001b[49m\u001b[43mextents\u001b[49m\u001b[43m)\u001b[49m:\n\u001b[0;32m     71\u001b[0m     extents \u001b[38;5;241m=\u001b[39m \u001b[38;5;28;01mNone\u001b[39;00m\n\u001b[0;32m     72\u001b[0m \u001b[38;5;28;01melse\u001b[39;00m:\n",
      "File \u001b[1;32mD:\\Anaconda\\envs\\dev\\lib\\site-packages\\geoviews\\plotting\\plot.py:70\u001b[0m, in \u001b[0;36m<genexpr>\u001b[1;34m(.0)\u001b[0m\n\u001b[0;32m     68\u001b[0m \u001b[38;5;28;01mif\u001b[39;00m \u001b[38;5;129;01mnot\u001b[39;00m \u001b[38;5;28mgetattr\u001b[39m(element, \u001b[38;5;124m'\u001b[39m\u001b[38;5;124mcrs\u001b[39m\u001b[38;5;124m'\u001b[39m, \u001b[38;5;28;01mNone\u001b[39;00m) \u001b[38;5;129;01mor\u001b[39;00m \u001b[38;5;129;01mnot\u001b[39;00m \u001b[38;5;28mself\u001b[39m\u001b[38;5;241m.\u001b[39mgeographic:\n\u001b[0;32m     69\u001b[0m     \u001b[38;5;28;01mreturn\u001b[39;00m extents\n\u001b[1;32m---> 70\u001b[0m \u001b[38;5;28;01melif\u001b[39;00m \u001b[38;5;28many\u001b[39m(e \u001b[38;5;129;01mis\u001b[39;00m \u001b[38;5;28;01mNone\u001b[39;00m \u001b[38;5;129;01mor\u001b[39;00m \u001b[38;5;129;01mnot\u001b[39;00m \u001b[43mnp\u001b[49m\u001b[38;5;241;43m.\u001b[39;49m\u001b[43misfinite\u001b[49m\u001b[43m(\u001b[49m\u001b[43me\u001b[49m\u001b[43m)\u001b[49m \u001b[38;5;28;01mfor\u001b[39;00m e \u001b[38;5;129;01min\u001b[39;00m extents):\n\u001b[0;32m     71\u001b[0m     extents \u001b[38;5;241m=\u001b[39m \u001b[38;5;28;01mNone\u001b[39;00m\n\u001b[0;32m     72\u001b[0m \u001b[38;5;28;01melse\u001b[39;00m:\n",
      "\u001b[1;31mTypeError\u001b[0m: ufunc 'isfinite' not supported for the input types, and the inputs could not be safely coerced to any supported types according to the casting rule ''safe''"
     ]
    },
    {
     "data": {
      "text/plain": [
       ":Overlay\n",
       "   .Tiles.I  :Tiles   [x,y]\n",
       "   .Points.I :Points   [Complaint ID,Date received]"
      ]
     },
     "execution_count": 276,
     "metadata": {},
     "output_type": "execute_result"
    }
   ],
   "source": [
    "# Configure the map plot\n",
    "map_plot_1 = complaints_metadata.hvplot.points(\n",
    "    \"ZIP code\",\n",
    "    geo = True,\n",
    "    tiles = \"OSM\",\n",
    "    color = \"Company resopnse to consumer\"\n",
    ")\n",
    "\n",
    "# Display the map\n",
    "map_plot_1"
   ]
  },
  {
   "cell_type": "code",
   "execution_count": 54,
   "id": "084d789d",
   "metadata": {},
   "outputs": [
    {
     "data": {
      "text/plain": [
       "1"
      ]
     },
     "execution_count": 54,
     "metadata": {},
     "output_type": "execute_result"
    }
   ],
   "source": [
    "#Verifying there is no duplicate Customer ID's\n",
    "checking = complaints_metadata[\"Complaint ID\"].duplicated()\n",
    "checking.nunique()"
   ]
  },
  {
   "cell_type": "code",
   "execution_count": 168,
   "id": "d89b1391",
   "metadata": {},
   "outputs": [
    {
     "data": {
      "text/plain": [
       "['Closed with non-monetary relief',\n",
       " 'Closed with explanation',\n",
       " 'Closed with monetary relief',\n",
       " 'Untimely response',\n",
       " 'Closed',\n",
       " 'Closed without relief',\n",
       " 'Closed with relief']"
      ]
     },
     "execution_count": 168,
     "metadata": {},
     "output_type": "execute_result"
    }
   ],
   "source": [
    "#checking how many unique company responses to consumers were present in the dataset\n",
    "issues_df = complaints_metadata[\"Company response to consumer\"].unique()\n",
    "list(issues_df)"
   ]
  },
  {
   "cell_type": "code",
   "execution_count": 175,
   "id": "457fcd19",
   "metadata": {},
   "outputs": [
    {
     "data": {
      "text/plain": [
       "[Closed with explanation            3839\n",
       " Closed with non-monetary relief     182\n",
       " Closed with monetary relief         168\n",
       " Closed without relief               158\n",
       " Closed                               80\n",
       " Closed with relief                   18\n",
       " Untimely response                    15\n",
       " Name: Company response to consumer, dtype: int64,\n",
       " Closed with explanation            2208\n",
       " Closed with non-monetary relief     165\n",
       " Closed with monetary relief         126\n",
       " Closed                                7\n",
       " Name: Company response to consumer, dtype: int64]"
      ]
     },
     "metadata": {},
     "output_type": "display_data"
    }
   ],
   "source": [
    "# Put Responses into a list for a for loop (and later for plot labels)\n",
    "Responses = [\"No\",\"Yes\"]\n",
    "\n",
    "# Create empty list to fill with closed(for plotting)\n",
    "Closed = []\n",
    "\n",
    "for Resp in Responses:\n",
    "\n",
    "# Locate the rows which contain the company response to consumer with a \"No\" or \"Yes\" Public response.  \n",
    "\n",
    "    formula = complaints_metadata.loc[complaints_metadata[\"Company public response\"] == Resp]['Company response to consumer'].value_counts()\n",
    "     # add subset \n",
    "    Closed.append(formula)\n",
    "    \n",
    "display(Closed)\n",
    "#Displays total Counts for each company response to consumer for each kind of response No then Yes."
   ]
  },
  {
   "cell_type": "code",
   "execution_count": 161,
   "id": "26666257",
   "metadata": {},
   "outputs": [],
   "source": [
    "#Dataframe with only Yes Public Responses \n",
    "Yes_response_df = complaints_metadata.loc[complaints_metadata['Company public response']!=\"No\", :]"
   ]
  },
  {
   "cell_type": "code",
   "execution_count": 162,
   "id": "00d27d50",
   "metadata": {},
   "outputs": [],
   "source": [
    "#Dataframe with only No Public Responses \n",
    "No_response_df = complaints_metadata.loc[complaints_metadata['Company public response']!=\"Yes\", :]"
   ]
  },
  {
   "cell_type": "code",
   "execution_count": 163,
   "id": "25b1cf36",
   "metadata": {},
   "outputs": [
    {
     "data": {
      "text/plain": [
       "Company response to consumer     Company public response\n",
       "Closed                           No                           80\n",
       "                                 Yes                           7\n",
       "Closed with explanation          No                         3839\n",
       "                                 Yes                        2208\n",
       "Closed with monetary relief      No                          168\n",
       "                                 Yes                         126\n",
       "Closed with non-monetary relief  No                          182\n",
       "                                 Yes                         165\n",
       "Closed with relief               No                           18\n",
       "Closed without relief            No                          158\n",
       "Untimely response                No                           15\n",
       "Name: Issue, dtype: int64"
      ]
     },
     "metadata": {},
     "output_type": "display_data"
    }
   ],
   "source": [
    "#Count of how many of each type of closed response with which issues were addressed with a public or non-public response.\n",
    "response_df = complaints_metadata.groupby([\"Company response to consumer\",(\"Company public response\")])[\"Issue\"].count()\n",
    "display(response_df)"
   ]
  },
  {
   "cell_type": "code",
   "execution_count": 121,
   "id": "3dd40c9a",
   "metadata": {},
   "outputs": [
    {
     "data": {
      "text/plain": [
       "Company response to consumer\n",
       "Closed                                7\n",
       "Closed with explanation            2208\n",
       "Closed with monetary relief         126\n",
       "Closed with non-monetary relief     165\n",
       "Name: Issue, dtype: int64"
      ]
     },
     "metadata": {},
     "output_type": "display_data"
    }
   ],
   "source": [
    "#Dataframe counting the issues by company response to consumer that gave a Public Response\n",
    "response_Y_df = Yes_response_df.groupby([\"Company response to consumer\"])[\"Issue\"].count()\n",
    "display(response_Y_df)"
   ]
  },
  {
   "cell_type": "code",
   "execution_count": 119,
   "id": "a7e43664",
   "metadata": {},
   "outputs": [
    {
     "data": {
      "text/plain": [
       "Company response to consumer     Issue                                                                           \n",
       "Closed                           Application, originator, mortgage broker                                              3\n",
       "                                 Loan modification,collection,foreclosure                                              1\n",
       "                                 Settlement process and costs                                                          3\n",
       "Closed with explanation          Application, originator, mortgage broker                                             92\n",
       "                                 Applying for a mortgage or refinancing an existing mortgage                         109\n",
       "                                 Closing on a mortgage                                                                86\n",
       "                                 Credit decision / Underwriting                                                       32\n",
       "                                 Improper use of your report                                                           2\n",
       "                                 Incorrect information on your report                                                 37\n",
       "                                 Loan modification,collection,foreclosure                                            272\n",
       "                                 Loan servicing, payments, escrow account                                            452\n",
       "                                 Problem with a credit reporting company's investigation into an existing problem      7\n",
       "                                 Settlement process and costs                                                         48\n",
       "                                 Struggling to pay mortgage                                                          440\n",
       "                                 Trouble during payment process                                                      630\n",
       "                                 Unable to get your credit report or credit score                                      1\n",
       "Closed with monetary relief      Application, originator, mortgage broker                                             17\n",
       "                                 Applying for a mortgage or refinancing an existing mortgage                          11\n",
       "                                 Closing on a mortgage                                                                11\n",
       "                                 Credit decision / Underwriting                                                       10\n",
       "                                 Loan modification,collection,foreclosure                                              3\n",
       "                                 Loan servicing, payments, escrow account                                             32\n",
       "                                 Settlement process and costs                                                          4\n",
       "                                 Struggling to pay mortgage                                                            5\n",
       "                                 Trouble during payment process                                                       33\n",
       "Closed with non-monetary relief  Application, originator, mortgage broker                                              9\n",
       "                                 Applying for a mortgage or refinancing an existing mortgage                           3\n",
       "                                 Closing on a mortgage                                                                 6\n",
       "                                 Credit decision / Underwriting                                                        2\n",
       "                                 Improper use of your report                                                           1\n",
       "                                 Incorrect information on your report                                                  4\n",
       "                                 Loan modification,collection,foreclosure                                             22\n",
       "                                 Loan servicing, payments, escrow account                                             36\n",
       "                                 Problem with a credit reporting company's investigation into an existing problem      2\n",
       "                                 Settlement process and costs                                                          6\n",
       "                                 Struggling to pay mortgage                                                           24\n",
       "                                 Trouble during payment process                                                       50\n",
       "Name: Issue, dtype: int64"
      ]
     },
     "metadata": {},
     "output_type": "display_data"
    }
   ],
   "source": [
    "#Dataframe counting the issues by company response to consumer and type of issue that gave a Public Response\n",
    "Detailed_response_Y_df = Yes_response_df.groupby([\"Company response to consumer\", \"Issue\"])[\"Issue\"].count()\n",
    "display(Detailed_response_Y_df)"
   ]
  },
  {
   "cell_type": "code",
   "execution_count": 202,
   "id": "c3ee5335",
   "metadata": {},
   "outputs": [
    {
     "data": {
      "text/plain": [
       "Company                       Company response to consumer  Issue                                                      \n",
       "1ST PREFERENCE MORTGAGE CORP  Closed with explanation       Settlement process and costs                                   1\n",
       "360 MORTGAGE GROUP LLC        Closed with explanation       Loan modification,collection,foreclosure                       1\n",
       "                                                            Loan servicing, payments, escrow account                       1\n",
       "ALLY FINANCIAL INC.           Closed with explanation       Application, originator, mortgage broker                       1\n",
       "AMA Advisors, LLC.            Closed with explanation       Loan servicing, payments, escrow account                       5\n",
       "                                                                                                                          ..\n",
       "WSFS FINANCIAL CORPORATION    Closed with explanation       Applying for a mortgage or refinancing an existing mortgage    1\n",
       "ZIONS BANCORPORATION          Closed with explanation       Applying for a mortgage or refinancing an existing mortgage    3\n",
       "                                                            Trouble during payment process                                 3\n",
       "                                                            Closing on a mortgage                                          1\n",
       "                                                            Struggling to pay mortgage                                     1\n",
       "Name: Issue, Length: 530, dtype: int64"
      ]
     },
     "metadata": {},
     "output_type": "display_data"
    }
   ],
   "source": [
    "#What company with which Company responses to consumers that ARE Public and the issues they had and the count of those issues. \n",
    "company_response_Y_df = Yes_response_df.groupby([\"Company\",\"Company response to consumer\"])[\"Issue\"].value_counts()\n",
    "display(company_response_Y_df)"
   ]
  },
  {
   "cell_type": "code",
   "execution_count": 177,
   "id": "5f68bbd7",
   "metadata": {},
   "outputs": [
    {
     "data": {
      "text/plain": [
       "Company response to consumer\n",
       "Closed                               80\n",
       "Closed with explanation            3839\n",
       "Closed with monetary relief         168\n",
       "Closed with non-monetary relief     182\n",
       "Closed with relief                   18\n",
       "Closed without relief               158\n",
       "Untimely response                    15\n",
       "Name: Issue, dtype: int64"
      ]
     },
     "metadata": {},
     "output_type": "display_data"
    }
   ],
   "source": [
    "#Dataframe counting the issues by company response to consumer that did NOT give a Public Response\n",
    "response_N_df = No_response_df.groupby([\"Company response to consumer\"])[\"Issue\"].count()\n",
    "display(response_N_df)"
   ]
  },
  {
   "cell_type": "code",
   "execution_count": 120,
   "id": "90cd0123",
   "metadata": {},
   "outputs": [
    {
     "data": {
      "text/plain": [
       "Company response to consumer     Issue                                                                           \n",
       "Closed                           Application, originator, mortgage broker                                               8\n",
       "                                 Credit decision / Underwriting                                                         2\n",
       "                                 Loan modification,collection,foreclosure                                              32\n",
       "                                 Loan servicing, payments, escrow account                                              35\n",
       "                                 Settlement process and costs                                                           3\n",
       "Closed with explanation          Application, originator, mortgage broker                                             244\n",
       "                                 Applying for a mortgage or refinancing an existing mortgage                          103\n",
       "                                 Closing on a mortgage                                                                 93\n",
       "                                 Credit decision / Underwriting                                                        99\n",
       "                                 Improper use of your report                                                            2\n",
       "                                 Incorrect information on your report                                                  32\n",
       "                                 Loan modification,collection,foreclosure                                             976\n",
       "                                 Loan servicing, payments, escrow account                                            1197\n",
       "                                 Problem with a credit reporting company's investigation into an existing problem       5\n",
       "                                 Settlement process and costs                                                         134\n",
       "                                 Struggling to pay mortgage                                                           380\n",
       "                                 Trouble during payment process                                                       572\n",
       "                                 Unable to get your credit report or credit score                                       2\n",
       "Closed with monetary relief      Application, originator, mortgage broker                                              33\n",
       "                                 Applying for a mortgage or refinancing an existing mortgage                            7\n",
       "                                 Closing on a mortgage                                                                  9\n",
       "                                 Credit decision / Underwriting                                                         3\n",
       "                                 Loan modification,collection,foreclosure                                               4\n",
       "                                 Loan servicing, payments, escrow account                                              65\n",
       "                                 Settlement process and costs                                                          23\n",
       "                                 Struggling to pay mortgage                                                             3\n",
       "                                 Trouble during payment process                                                        21\n",
       "Closed with non-monetary relief  Application, originator, mortgage broker                                              14\n",
       "                                 Applying for a mortgage or refinancing an existing mortgage                            5\n",
       "                                 Closing on a mortgage                                                                  2\n",
       "                                 Credit decision / Underwriting                                                         2\n",
       "                                 Improper use of your report                                                            1\n",
       "                                 Incorrect information on your report                                                   3\n",
       "                                 Loan modification,collection,foreclosure                                              79\n",
       "                                 Loan servicing, payments, escrow account                                              51\n",
       "                                 Problem with a credit reporting company's investigation into an existing problem       1\n",
       "                                 Settlement process and costs                                                           7\n",
       "                                 Struggling to pay mortgage                                                             6\n",
       "                                 Trouble during payment process                                                        11\n",
       "Closed with relief               Application, originator, mortgage broker                                               3\n",
       "                                 Credit decision / Underwriting                                                         2\n",
       "                                 Loan modification,collection,foreclosure                                               3\n",
       "                                 Loan servicing, payments, escrow account                                              10\n",
       "Closed without relief            Application, originator, mortgage broker                                               8\n",
       "                                 Credit decision / Underwriting                                                         8\n",
       "                                 Loan modification,collection,foreclosure                                              85\n",
       "                                 Loan servicing, payments, escrow account                                              54\n",
       "                                 Settlement process and costs                                                           3\n",
       "Untimely response                Application, originator, mortgage broker                                               3\n",
       "                                 Applying for a mortgage or refinancing an existing mortgage                            1\n",
       "                                 Closing on a mortgage                                                                  1\n",
       "                                 Credit decision / Underwriting                                                         1\n",
       "                                 Loan modification,collection,foreclosure                                               2\n",
       "                                 Loan servicing, payments, escrow account                                               2\n",
       "                                 Settlement process and costs                                                           1\n",
       "                                 Struggling to pay mortgage                                                             1\n",
       "                                 Trouble during payment process                                                         3\n",
       "Name: Issue, dtype: int64"
      ]
     },
     "metadata": {},
     "output_type": "display_data"
    }
   ],
   "source": [
    "#Dataframe counting the issues by company response to consumer and type of issue that did NOT give a Public Response\n",
    "Detailed_response_N_df = No_response_df.groupby([\"Company response to consumer\",\"Issue\"])[\"Issue\"].count()\n",
    "display(response_N_df)"
   ]
  },
  {
   "cell_type": "code",
   "execution_count": 214,
   "id": "8af10d6b",
   "metadata": {},
   "outputs": [
    {
     "data": {
      "text/plain": [
       "Company                      Company response to consumer  Issue                                                      \n",
       "1ST ALLIANCE LENDING, LLC    Closed with explanation       Applying for a mortgage or refinancing an existing mortgage    1\n",
       "21ST MORTGAGE CORP.          Closed with explanation       Loan modification,collection,foreclosure                       3\n",
       "                                                           Loan servicing, payments, escrow account                       3\n",
       "                                                           Struggling to pay mortgage                                     3\n",
       "                                                           Application, originator, mortgage broker                       1\n",
       "                                                                                                                         ..\n",
       "WILLOW BEND MORTGAGE         Closed with explanation       Closing on a mortgage                                          1\n",
       "                                                           Incorrect information on your report                           1\n",
       "Williston Financial Group    Closed with explanation       Closing on a mortgage                                          1\n",
       "Zeus Mortgage, Ltd.          Closed with explanation       Application, originator, mortgage broker                       1\n",
       "iFreedom Direct Corporation  Closed with explanation       Application, originator, mortgage broker                       1\n",
       "Name: Issue, Length: 785, dtype: int64"
      ]
     },
     "metadata": {},
     "output_type": "display_data"
    }
   ],
   "source": [
    "#What company with which Company responses to consumers that were NOT public and the issues they had and the count of those issues. \n",
    "company_response_N_df = No_response_df.groupby([ \"Company\",\"Company response to consumer\"])[\"Issue\"].value_counts()\n",
    "display(company_response_N_df)"
   ]
  },
  {
   "cell_type": "code",
   "execution_count": 152,
   "id": "4e4e4807",
   "metadata": {},
   "outputs": [
    {
     "data": {
      "text/html": [
       "<div>\n",
       "<style scoped>\n",
       "    .dataframe tbody tr th:only-of-type {\n",
       "        vertical-align: middle;\n",
       "    }\n",
       "\n",
       "    .dataframe tbody tr th {\n",
       "        vertical-align: top;\n",
       "    }\n",
       "\n",
       "    .dataframe thead th {\n",
       "        text-align: right;\n",
       "    }\n",
       "</style>\n",
       "<table border=\"1\" class=\"dataframe\">\n",
       "  <thead>\n",
       "    <tr style=\"text-align: right;\">\n",
       "      <th></th>\n",
       "      <th>Issue_x</th>\n",
       "      <th>Issue_y</th>\n",
       "    </tr>\n",
       "    <tr>\n",
       "      <th>Company response to consumer</th>\n",
       "      <th></th>\n",
       "      <th></th>\n",
       "    </tr>\n",
       "  </thead>\n",
       "  <tbody>\n",
       "    <tr>\n",
       "      <th>Closed</th>\n",
       "      <td>80</td>\n",
       "      <td>7.0</td>\n",
       "    </tr>\n",
       "    <tr>\n",
       "      <th>Closed with explanation</th>\n",
       "      <td>3839</td>\n",
       "      <td>2208.0</td>\n",
       "    </tr>\n",
       "    <tr>\n",
       "      <th>Closed with monetary relief</th>\n",
       "      <td>168</td>\n",
       "      <td>126.0</td>\n",
       "    </tr>\n",
       "    <tr>\n",
       "      <th>Closed with non-monetary relief</th>\n",
       "      <td>182</td>\n",
       "      <td>165.0</td>\n",
       "    </tr>\n",
       "    <tr>\n",
       "      <th>Closed with relief</th>\n",
       "      <td>18</td>\n",
       "      <td>NaN</td>\n",
       "    </tr>\n",
       "    <tr>\n",
       "      <th>Closed without relief</th>\n",
       "      <td>158</td>\n",
       "      <td>NaN</td>\n",
       "    </tr>\n",
       "    <tr>\n",
       "      <th>Untimely response</th>\n",
       "      <td>15</td>\n",
       "      <td>NaN</td>\n",
       "    </tr>\n",
       "  </tbody>\n",
       "</table>\n",
       "</div>"
      ],
      "text/plain": [
       "                                 Issue_x  Issue_y\n",
       "Company response to consumer                     \n",
       "Closed                                80      7.0\n",
       "Closed with explanation             3839   2208.0\n",
       "Closed with monetary relief          168    126.0\n",
       "Closed with non-monetary relief      182    165.0\n",
       "Closed with relief                    18      NaN\n",
       "Closed without relief                158      NaN\n",
       "Untimely response                     15      NaN"
      ]
     },
     "metadata": {},
     "output_type": "display_data"
    }
   ],
   "source": [
    "# Merging Dataframes of responses counted to plot on a bar graph\n",
    "merge_df = pd.merge(response_N_df, response_Y_df, how= 'outer', on=\"Company response to consumer\")\n",
    "display(merge_df)"
   ]
  },
  {
   "cell_type": "code",
   "execution_count": 157,
   "id": "64cee8d8",
   "metadata": {},
   "outputs": [
    {
     "data": {
      "text/html": [
       "<div>\n",
       "<style scoped>\n",
       "    .dataframe tbody tr th:only-of-type {\n",
       "        vertical-align: middle;\n",
       "    }\n",
       "\n",
       "    .dataframe tbody tr th {\n",
       "        vertical-align: top;\n",
       "    }\n",
       "\n",
       "    .dataframe thead th {\n",
       "        text-align: right;\n",
       "    }\n",
       "</style>\n",
       "<table border=\"1\" class=\"dataframe\">\n",
       "  <thead>\n",
       "    <tr style=\"text-align: right;\">\n",
       "      <th></th>\n",
       "      <th>No Public Response</th>\n",
       "      <th>Public Response</th>\n",
       "    </tr>\n",
       "    <tr>\n",
       "      <th>Company response to consumer</th>\n",
       "      <th></th>\n",
       "      <th></th>\n",
       "    </tr>\n",
       "  </thead>\n",
       "  <tbody>\n",
       "    <tr>\n",
       "      <th>Closed</th>\n",
       "      <td>80</td>\n",
       "      <td>7.0</td>\n",
       "    </tr>\n",
       "    <tr>\n",
       "      <th>Closed with explanation</th>\n",
       "      <td>3839</td>\n",
       "      <td>2208.0</td>\n",
       "    </tr>\n",
       "    <tr>\n",
       "      <th>Closed with monetary relief</th>\n",
       "      <td>168</td>\n",
       "      <td>126.0</td>\n",
       "    </tr>\n",
       "    <tr>\n",
       "      <th>Closed with non-monetary relief</th>\n",
       "      <td>182</td>\n",
       "      <td>165.0</td>\n",
       "    </tr>\n",
       "    <tr>\n",
       "      <th>Closed with relief</th>\n",
       "      <td>18</td>\n",
       "      <td>NaN</td>\n",
       "    </tr>\n",
       "    <tr>\n",
       "      <th>Closed without relief</th>\n",
       "      <td>158</td>\n",
       "      <td>NaN</td>\n",
       "    </tr>\n",
       "    <tr>\n",
       "      <th>Untimely response</th>\n",
       "      <td>15</td>\n",
       "      <td>NaN</td>\n",
       "    </tr>\n",
       "  </tbody>\n",
       "</table>\n",
       "</div>"
      ],
      "text/plain": [
       "                                 No Public Response  Public Response\n",
       "Company response to consumer                                        \n",
       "Closed                                           80              7.0\n",
       "Closed with explanation                        3839           2208.0\n",
       "Closed with monetary relief                     168            126.0\n",
       "Closed with non-monetary relief                 182            165.0\n",
       "Closed with relief                               18              NaN\n",
       "Closed without relief                           158              NaN\n",
       "Untimely response                                15              NaN"
      ]
     },
     "metadata": {},
     "output_type": "display_data"
    }
   ],
   "source": [
    "#Renaming columns to be displayed on the legend\n",
    "Bar_df = merge_df.rename(columns={\"Issue_x\": \"No Public Response\", \"Issue_y\": \"Public Response\"})\n",
    "display(Bar_df)"
   ]
  },
  {
   "cell_type": "raw",
   "id": "0c897cf6",
   "metadata": {},
   "source": []
  },
  {
   "cell_type": "code",
   "execution_count": 166,
   "id": "9b148583",
   "metadata": {},
   "outputs": [
    {
     "data": {
      "image/png": "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",
      "text/plain": [
       "<Figure size 640x480 with 1 Axes>"
      ]
     },
     "metadata": {},
     "output_type": "display_data"
    },
    {
     "data": {
      "text/plain": [
       "<Figure size 640x480 with 0 Axes>"
      ]
     },
     "metadata": {},
     "output_type": "display_data"
    }
   ],
   "source": [
    "#How to add a total count to each Bar\n",
    "Bar_df.plot(kind=\"bar\")\n",
    "plt.xticks(rotation=80)\n",
    "plt.title(\"Company Response Data to No Public Response\")\n",
    "plt.xlabel(\"Company Closed Reponses\")\n",
    "plt.ylabel(\"Total Count of Responses\")\n",
    "plt.show()\n",
    "plt.tight_layout()\n",
    "plt.savefig('Company_Reponse_Data.png')"
   ]
  },
  {
   "cell_type": "code",
   "execution_count": null,
   "id": "e3126bc2",
   "metadata": {},
   "outputs": [],
   "source": []
  }
 ],
 "metadata": {
  "kernelspec": {
   "display_name": "dev",
   "language": "python",
   "name": "dev"
  },
  "language_info": {
   "codemirror_mode": {
    "name": "ipython",
    "version": 3
   },
   "file_extension": ".py",
   "mimetype": "text/x-python",
   "name": "python",
   "nbconvert_exporter": "python",
   "pygments_lexer": "ipython3",
   "version": "3.10.12"
  }
 },
 "nbformat": 4,
 "nbformat_minor": 5
}
