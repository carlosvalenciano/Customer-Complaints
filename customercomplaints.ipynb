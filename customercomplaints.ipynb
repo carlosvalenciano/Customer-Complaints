{
 "cells": [
  {
   "cell_type": "code",
   "execution_count": 1,
   "id": "69e12fae-0e5b-493d-a5b1-f93aef5daab2",
   "metadata": {},
   "outputs": [],
   "source": [
    "#customer complaints"
   ]
  },
  {
   "cell_type": "code",
   "execution_count": null,
   "id": "6f06fdaf-9ea7-42db-8020-1925c974ff94",
   "metadata": {},
   "outputs": [],
   "source": []
  }
 ],
 "metadata": {
  "kernelspec": {
   "display_name": "dev",
   "language": "python",
   "name": "dev"
  },
  "language_info": {
   "codemirror_mode": {
    "name": "ipython",
    "version": 3
   },
   "file_extension": ".py",
   "mimetype": "text/x-python",
   "name": "python",
   "nbconvert_exporter": "python",
   "pygments_lexer": "ipython3",
   "version": "3.10.11"
  }
 },
 "nbformat": 4,
 "nbformat_minor": 5
}
